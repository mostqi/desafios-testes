{
 "cells": [
  {
   "cell_type": "markdown",
   "id": "97907f12",
   "metadata": {},
   "source": [
    "## Primeira Etapa"
   ]
  },
  {
   "cell_type": "code",
   "execution_count": 1,
   "id": "9149335f",
   "metadata": {},
   "outputs": [],
   "source": [
    "import json\n",
    "import requests"
   ]
  },
  {
   "cell_type": "markdown",
   "id": "c82986d2",
   "metadata": {},
   "source": [
    "A classe abaixo tem como objetivo representar a data de nascimento de uma pessoa. É utilizada como medida de desempate na ordenação de Pessoas da classe MockPerson."
   ]
  },
  {
   "cell_type": "code",
   "execution_count": 2,
   "id": "95ee2b86",
   "metadata": {},
   "outputs": [],
   "source": [
    "extended_months = [\n",
    "    \"January\", \"February\", \"March\", \"April\", \"May\", \"June\", \"July\", \"August\", \"September\",\n",
    "    \"October\", \"November\", \"December\"\n",
    "]\n",
    "\n",
    "class MockDate:\n",
    "\n",
    "    day: int\n",
    "    month: int\n",
    "    year: int\n",
    "\n",
    "    def __init__ (self, date: str) -> None:\n",
    "        self.day = int(date.split(\"/\")[0])\n",
    "        self.month = int(date.split(\"/\")[1])\n",
    "        self.year = int(date.split(\"/\")[2])\n",
    "\n",
    "    def __lt__ (self, other: object) -> bool:\n",
    "        if self.year is not None and self.year == other.year:\n",
    "            if self.month is not None and self.month == other.month:\n",
    "                if self.day is not None:\n",
    "                    return self.day < other.day\n",
    "\n",
    "                else:\n",
    "                    return 0\n",
    "\n",
    "            return self.month < other.month\n",
    "\n",
    "        return self.year < other.year\n",
    "\n",
    "    def __eq__ (self, other: object) -> bool:\n",
    "        if self.year is not None and self.year == other.year:\n",
    "            if self.month is not None and self.month == other.month:\n",
    "                if self.day is not None:\n",
    "                    return self.day == other.day\n",
    "\n",
    "            return True\n",
    "\n",
    "        return False\n",
    "\n",
    "    def __repr__ (self) -> str:\n",
    "        return str(self)\n",
    "\n",
    "    def __str__ (self) -> str:\n",
    "        return f\"{self.day}/{self.month}/{self.year}\"\n",
    "\n",
    "    @property\n",
    "    def extended (self) -> str:\n",
    "        day = \"\" if self.day is None else f\"{self.day}{MockDate.day_suffix(self.day)}\"\n",
    "        month = \"\" if self.month is None else f\"{MockDate.month_name(self.month)}\"\n",
    "        year = \"\" if self.year is None else f\"{self.year}\"\n",
    "\n",
    "        return f\"{day} of {month} of {year}\"\n",
    "\n",
    "    @staticmethod\n",
    "    def month_name (month: int) -> str:\n",
    "        return extended_months[month - 1]\n",
    "\n",
    "    @staticmethod\n",
    "    def day_suffix (day: int) -> str:\n",
    "        if day == 1:\n",
    "            return \"st\"\n",
    "        elif day == 2:\n",
    "            return \"nd\"\n",
    "        elif day == 3:\n",
    "            return \"rd\"\n",
    "        else:\n",
    "            return \"th\"\n"
   ]
  },
  {
   "cell_type": "markdown",
   "id": "55ddf083",
   "metadata": {},
   "source": [
    "A classe abaixo representa uma pessoa, seu nome, sua idade, seu emprego e seu dinheiro. Deve permitir que seja comparada, ordenada, impressa, assim como fazer alterar seu emprego, fazer transações sem que fique devendo e fazer aniversários."
   ]
  },
  {
   "cell_type": "code",
   "execution_count": 3,
   "id": "c4a03b3a",
   "metadata": {},
   "outputs": [],
   "source": [
    "class MockPerson:\n",
    "\n",
    "    name: str\n",
    "    birthdate: MockDate\n",
    "    age: int\n",
    "    funds: float\n",
    "    job: str\n",
    "\n",
    "    def __init__ (\n",
    "        self, name: str, birthdate: str, age: int, funds: float, job: str = \"Unemployed\"\n",
    "    ) -> None:\n",
    "        self.name = name\n",
    "        self.birthdate = MockDate(birthdate)\n",
    "        self.age = age\n",
    "        self.funds = funds\n",
    "        self.job = job\n",
    "\n",
    "    def birthday (self) -> None:\n",
    "        self.age += 1\n",
    "\n",
    "    def spend (self, value: float) -> None:\n",
    "        self.funds -= value\n",
    "\n",
    "    def earn (self, value: float) -> None:\n",
    "        self.funds += value\n",
    "\n",
    "    def hire (self, new_job: str) -> None:\n",
    "        self.job = new_job\n",
    "\n",
    "    def fire (self) -> None:\n",
    "        self.job = \"Unemployed\"\n",
    "\n",
    "    def __lt__ (self, other: object) -> bool:\n",
    "        if self.name == other.name:\n",
    "            return self.birthdate < other.birthdate\n",
    "\n",
    "        return self.name < other.name\n",
    "\n",
    "    def __eq__ (self, other: object) -> bool:\n",
    "        flag = self.name == other.name\n",
    "        flag &= self.birthdate == other.birthdate\n",
    "        flag &= self.job == other.job\n",
    "        flag &= self.funds == other.funds\n",
    "\n",
    "        return flag\n",
    "\n",
    "    def __repr__ (self) -> str:\n",
    "        return f\"Name: {self.name}\\nAge: {self.age}\\nOccupation: {self.job}\"\n"
   ]
  },
  {
   "cell_type": "markdown",
   "id": "54a38e44",
   "metadata": {},
   "source": [
    "## Segunda Etapa\n",
    "\n",
    "Para a segunda etapa, você deverá realizar requisições para uma aplicação flask. As funções expostas pela aplicação são \"number_in_range\", \"harmonic-mean\", \"point_angle_rotate\", \"seg2_intersection\".  \n",
    "Para conferir a documentação da função deve-se enviar uma requisição GET para /doc/NOME_DA_FUNÇÃO, para realizar um teste deve-se enviar uma requisição POST para /test/NOME_DA_FUNÇÃO, com os parâmetros dispostos num corpo json tal como se segue.\n",
    "\n",
    "### Atenção\n",
    "\n",
    "Há um limite de 100 testes por requisição e 10 testes por segundo. Caso estes limites sejam ultrapassados será retornada uma mensagem de erro pela requisição."
   ]
  },
  {
   "cell_type": "code",
   "execution_count": 7,
   "id": "aa31b7db",
   "metadata": {},
   "outputs": [
    {
     "ename": "JSONDecodeError",
     "evalue": "Expecting value: line 1 column 1 (char 0)",
     "output_type": "error",
     "traceback": [
      "\u001b[0;31m---------------------------------------------------------------------------\u001b[0m",
      "\u001b[0;31mJSONDecodeError\u001b[0m                           Traceback (most recent call last)",
      "\u001b[0;32m<ipython-input-7-4b2e943d0a88>\u001b[0m in \u001b[0;36m<module>\u001b[0;34m\u001b[0m\n\u001b[1;32m      4\u001b[0m )\n\u001b[1;32m      5\u001b[0m \u001b[0;34m\u001b[0m\u001b[0m\n\u001b[0;32m----> 6\u001b[0;31m \u001b[0mprint\u001b[0m\u001b[0;34m(\u001b[0m\u001b[0mresponse\u001b[0m\u001b[0;34m.\u001b[0m\u001b[0mjson\u001b[0m\u001b[0;34m(\u001b[0m\u001b[0;34m)\u001b[0m\u001b[0;34m[\u001b[0m\u001b[0;34m\"result\"\u001b[0m\u001b[0;34m]\u001b[0m\u001b[0;34m)\u001b[0m\u001b[0;34m\u001b[0m\u001b[0;34m\u001b[0m\u001b[0m\n\u001b[0m",
      "\u001b[0;32m~/.pyenv/versions/3.9.5/lib/python3.9/site-packages/requests/models.py\u001b[0m in \u001b[0;36mjson\u001b[0;34m(self, **kwargs)\u001b[0m\n\u001b[1;32m    898\u001b[0m                     \u001b[0;31m# used.\u001b[0m\u001b[0;34m\u001b[0m\u001b[0;34m\u001b[0m\u001b[0;34m\u001b[0m\u001b[0m\n\u001b[1;32m    899\u001b[0m                     \u001b[0;32mpass\u001b[0m\u001b[0;34m\u001b[0m\u001b[0;34m\u001b[0m\u001b[0m\n\u001b[0;32m--> 900\u001b[0;31m         \u001b[0;32mreturn\u001b[0m \u001b[0mcomplexjson\u001b[0m\u001b[0;34m.\u001b[0m\u001b[0mloads\u001b[0m\u001b[0;34m(\u001b[0m\u001b[0mself\u001b[0m\u001b[0;34m.\u001b[0m\u001b[0mtext\u001b[0m\u001b[0;34m,\u001b[0m \u001b[0;34m**\u001b[0m\u001b[0mkwargs\u001b[0m\u001b[0;34m)\u001b[0m\u001b[0;34m\u001b[0m\u001b[0;34m\u001b[0m\u001b[0m\n\u001b[0m\u001b[1;32m    901\u001b[0m \u001b[0;34m\u001b[0m\u001b[0m\n\u001b[1;32m    902\u001b[0m     \u001b[0;34m@\u001b[0m\u001b[0mproperty\u001b[0m\u001b[0;34m\u001b[0m\u001b[0;34m\u001b[0m\u001b[0m\n",
      "\u001b[0;32m~/.pyenv/versions/3.9.5/lib/python3.9/json/__init__.py\u001b[0m in \u001b[0;36mloads\u001b[0;34m(s, cls, object_hook, parse_float, parse_int, parse_constant, object_pairs_hook, **kw)\u001b[0m\n\u001b[1;32m    344\u001b[0m             \u001b[0mparse_int\u001b[0m \u001b[0;32mis\u001b[0m \u001b[0;32mNone\u001b[0m \u001b[0;32mand\u001b[0m \u001b[0mparse_float\u001b[0m \u001b[0;32mis\u001b[0m \u001b[0;32mNone\u001b[0m \u001b[0;32mand\u001b[0m\u001b[0;34m\u001b[0m\u001b[0;34m\u001b[0m\u001b[0m\n\u001b[1;32m    345\u001b[0m             parse_constant is None and object_pairs_hook is None and not kw):\n\u001b[0;32m--> 346\u001b[0;31m         \u001b[0;32mreturn\u001b[0m \u001b[0m_default_decoder\u001b[0m\u001b[0;34m.\u001b[0m\u001b[0mdecode\u001b[0m\u001b[0;34m(\u001b[0m\u001b[0ms\u001b[0m\u001b[0;34m)\u001b[0m\u001b[0;34m\u001b[0m\u001b[0;34m\u001b[0m\u001b[0m\n\u001b[0m\u001b[1;32m    347\u001b[0m     \u001b[0;32mif\u001b[0m \u001b[0mcls\u001b[0m \u001b[0;32mis\u001b[0m \u001b[0;32mNone\u001b[0m\u001b[0;34m:\u001b[0m\u001b[0;34m\u001b[0m\u001b[0;34m\u001b[0m\u001b[0m\n\u001b[1;32m    348\u001b[0m         \u001b[0mcls\u001b[0m \u001b[0;34m=\u001b[0m \u001b[0mJSONDecoder\u001b[0m\u001b[0;34m\u001b[0m\u001b[0;34m\u001b[0m\u001b[0m\n",
      "\u001b[0;32m~/.pyenv/versions/3.9.5/lib/python3.9/json/decoder.py\u001b[0m in \u001b[0;36mdecode\u001b[0;34m(self, s, _w)\u001b[0m\n\u001b[1;32m    335\u001b[0m \u001b[0;34m\u001b[0m\u001b[0m\n\u001b[1;32m    336\u001b[0m         \"\"\"\n\u001b[0;32m--> 337\u001b[0;31m         \u001b[0mobj\u001b[0m\u001b[0;34m,\u001b[0m \u001b[0mend\u001b[0m \u001b[0;34m=\u001b[0m \u001b[0mself\u001b[0m\u001b[0;34m.\u001b[0m\u001b[0mraw_decode\u001b[0m\u001b[0;34m(\u001b[0m\u001b[0ms\u001b[0m\u001b[0;34m,\u001b[0m \u001b[0midx\u001b[0m\u001b[0;34m=\u001b[0m\u001b[0m_w\u001b[0m\u001b[0;34m(\u001b[0m\u001b[0ms\u001b[0m\u001b[0;34m,\u001b[0m \u001b[0;36m0\u001b[0m\u001b[0;34m)\u001b[0m\u001b[0;34m.\u001b[0m\u001b[0mend\u001b[0m\u001b[0;34m(\u001b[0m\u001b[0;34m)\u001b[0m\u001b[0;34m)\u001b[0m\u001b[0;34m\u001b[0m\u001b[0;34m\u001b[0m\u001b[0m\n\u001b[0m\u001b[1;32m    338\u001b[0m         \u001b[0mend\u001b[0m \u001b[0;34m=\u001b[0m \u001b[0m_w\u001b[0m\u001b[0;34m(\u001b[0m\u001b[0ms\u001b[0m\u001b[0;34m,\u001b[0m \u001b[0mend\u001b[0m\u001b[0;34m)\u001b[0m\u001b[0;34m.\u001b[0m\u001b[0mend\u001b[0m\u001b[0;34m(\u001b[0m\u001b[0;34m)\u001b[0m\u001b[0;34m\u001b[0m\u001b[0;34m\u001b[0m\u001b[0m\n\u001b[1;32m    339\u001b[0m         \u001b[0;32mif\u001b[0m \u001b[0mend\u001b[0m \u001b[0;34m!=\u001b[0m \u001b[0mlen\u001b[0m\u001b[0;34m(\u001b[0m\u001b[0ms\u001b[0m\u001b[0;34m)\u001b[0m\u001b[0;34m:\u001b[0m\u001b[0;34m\u001b[0m\u001b[0;34m\u001b[0m\u001b[0m\n",
      "\u001b[0;32m~/.pyenv/versions/3.9.5/lib/python3.9/json/decoder.py\u001b[0m in \u001b[0;36mraw_decode\u001b[0;34m(self, s, idx)\u001b[0m\n\u001b[1;32m    353\u001b[0m             \u001b[0mobj\u001b[0m\u001b[0;34m,\u001b[0m \u001b[0mend\u001b[0m \u001b[0;34m=\u001b[0m \u001b[0mself\u001b[0m\u001b[0;34m.\u001b[0m\u001b[0mscan_once\u001b[0m\u001b[0;34m(\u001b[0m\u001b[0ms\u001b[0m\u001b[0;34m,\u001b[0m \u001b[0midx\u001b[0m\u001b[0;34m)\u001b[0m\u001b[0;34m\u001b[0m\u001b[0;34m\u001b[0m\u001b[0m\n\u001b[1;32m    354\u001b[0m         \u001b[0;32mexcept\u001b[0m \u001b[0mStopIteration\u001b[0m \u001b[0;32mas\u001b[0m \u001b[0merr\u001b[0m\u001b[0;34m:\u001b[0m\u001b[0;34m\u001b[0m\u001b[0;34m\u001b[0m\u001b[0m\n\u001b[0;32m--> 355\u001b[0;31m             \u001b[0;32mraise\u001b[0m \u001b[0mJSONDecodeError\u001b[0m\u001b[0;34m(\u001b[0m\u001b[0;34m\"Expecting value\"\u001b[0m\u001b[0;34m,\u001b[0m \u001b[0ms\u001b[0m\u001b[0;34m,\u001b[0m \u001b[0merr\u001b[0m\u001b[0;34m.\u001b[0m\u001b[0mvalue\u001b[0m\u001b[0;34m)\u001b[0m \u001b[0;32mfrom\u001b[0m \u001b[0;32mNone\u001b[0m\u001b[0;34m\u001b[0m\u001b[0;34m\u001b[0m\u001b[0m\n\u001b[0m\u001b[1;32m    356\u001b[0m         \u001b[0;32mreturn\u001b[0m \u001b[0mobj\u001b[0m\u001b[0;34m,\u001b[0m \u001b[0mend\u001b[0m\u001b[0;34m\u001b[0m\u001b[0;34m\u001b[0m\u001b[0m\n",
      "\u001b[0;31mJSONDecodeError\u001b[0m: Expecting value: line 1 column 1 (char 0)"
     ]
    }
   ],
   "source": [
    "response = requests.get(\n",
    "    url=\"http://44.199.43.18:1337/doc/number-in-range\", \n",
    "    headers={\"Param-Auth\": \"<TOKEN>\"}\n",
    ")\n",
    "\n",
    "print(response.json()[\"result\"])"
   ]
  },
  {
   "cell_type": "markdown",
   "id": "a5aec530",
   "metadata": {},
   "source": [
    "Para realizar um teste envie no corpo da requisição um json fornecendo um valor aos parâmetros desejados."
   ]
  },
  {
   "cell_type": "code",
   "execution_count": null,
   "id": "0a02cd20",
   "metadata": {},
   "outputs": [],
   "source": [
    "response = requests.post(\n",
    "    url=\"http://44.199.43.18:1337/test/number-in-range\", \n",
    "    headers={\n",
    "        \"Param-Auth\": \"<TOKEN>\",\n",
    "        \"Content-Type\": \"application/json\"\n",
    "    },\n",
    "    data=json.dumps({\n",
    "        \"num\": [ 1, 2, 3, 4, 5 ],\n",
    "        \"start\": 3,\n",
    "        \"stop\": 6\n",
    "    })\n",
    ")\n",
    "\n",
    "print(response.json()[\"result\"])"
   ]
  },
  {
   "cell_type": "code",
   "execution_count": null,
   "id": "c6a61d23",
   "metadata": {},
   "outputs": [],
   "source": [
    "response = requests.get(\n",
    "    url=\"http://44.199.43.18:1337/doc/segment-intersection\", \n",
    "    headers={\"Param-Auth\": \"<TOKEN>\"}\n",
    ")\n",
    "\n",
    "print(response.json()[\"result\"])"
   ]
  },
  {
   "cell_type": "code",
   "execution_count": null,
   "id": "bbfd541b",
   "metadata": {},
   "outputs": [],
   "source": [
    "response = requests.post(\n",
    "    url=\"http://44.199.43.18:1337/test/segment-intersection\", \n",
    "    headers={\n",
    "        \"Param-Auth\": \"<TOKEN>\",\n",
    "        \"Content-Type\": \"application/json\"\n",
    "    },\n",
    "    data=json.dumps({\n",
    "        \"seg1\": [[ 0, 1 ], [ 0, 3 ]],\n",
    "        \"seg2\": [\n",
    "            [[ 0, 0 ], [ 0, 1 ]],\n",
    "            [[ 2, 2 ], [ 2, -4 ]]\n",
    "        ]\n",
    "    })\n",
    ")\n",
    "\n",
    "print(response.json()[\"result\"])"
   ]
  }
 ],
 "metadata": {
  "kernelspec": {
   "display_name": "Python 3.9.5 64-bit ('3.9.5': pyenv)",
   "language": "python",
   "name": "python39564bit395pyenvd2dddf3349be4ac8a29ec779d4f7e53c"
  },
  "language_info": {
   "codemirror_mode": {
    "name": "ipython",
    "version": 3
   },
   "file_extension": ".py",
   "mimetype": "text/x-python",
   "name": "python",
   "nbconvert_exporter": "python",
   "pygments_lexer": "ipython3",
   "version": "3.9.5"
  }
 },
 "nbformat": 4,
 "nbformat_minor": 5
}
